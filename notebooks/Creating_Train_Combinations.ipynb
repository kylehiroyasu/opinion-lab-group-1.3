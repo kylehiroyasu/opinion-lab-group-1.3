{
 "cells": [
  {
   "cell_type": "markdown",
   "metadata": {},
   "source": [
    "# Training Combinations "
   ]
  },
  {
   "cell_type": "markdown",
   "metadata": {},
   "source": [
    "We have made `main.py` a script which can be configured and called from the commandline. In order to make sure we train a model for all possible combinations we can programmatically create it here\n",
    "\n",
    "The main features we want to pay attention to are the following:\n",
    "\n",
    "- dataset\n",
    "- entity/atttribute\n",
    "- binary or multiclass\n",
    "    - in binary case we should train a classifier for each target entity\n",
    "- loss function (use_kcl flag\n",
    "- embeddings"
   ]
  },
  {
   "cell_type": "code",
   "execution_count": 13,
   "metadata": {},
   "outputs": [],
   "source": [
    "import itertools\n",
    "import os\n",
    "import sys\n",
    "from pathlib import Path"
   ]
  },
  {
   "cell_type": "code",
   "execution_count": 5,
   "metadata": {},
   "outputs": [],
   "source": [
    "NOTEBOOKS = Path(os.getcwd())\n",
    "ROOT = NOTEBOOKS/'..'\n",
    "SRC = ROOT/'src'"
   ]
  },
  {
   "cell_type": "code",
   "execution_count": 10,
   "metadata": {},
   "outputs": [],
   "source": [
    "sys.path.append(str(SRC))"
   ]
  },
  {
   "cell_type": "code",
   "execution_count": 11,
   "metadata": {},
   "outputs": [],
   "source": [
    "from Main import LAPTOP_ENTITIES, LAPTOP_ATTRIBUTES, RESTAURANT_ATTRIBUTES, RESTAURANT_ENTITIES"
   ]
  },
  {
   "cell_type": "code",
   "execution_count": 12,
   "metadata": {},
   "outputs": [],
   "source": [
    "datasets = ['restaurants', 'laptop']\n",
    "label = ['entity', 'attribute']\n",
    "binary = [True, False]\n",
    "kcl_loss = [True, False]\n",
    "embeddings = ['glove', 'bert-base-uncased']"
   ]
  },
  {
   "cell_type": "code",
   "execution_count": 36,
   "metadata": {},
   "outputs": [],
   "source": [
    "def generate_command(d,l,b,k,e,target=None):\n",
    "    basic_cmd = 'python src/Main.py {dataset} {label} -embedding {emb} -cuda'\n",
    "    \n",
    "    use_binary = ' -b'\n",
    "    use_kcl = ' -use-kcl'\n",
    "    target_class = ' --binary-target-class {btc}'\n",
    "    \n",
    "    if b:\n",
    "        basic_cmd += use_binary\n",
    "    if k:\n",
    "        basic_cmd += use_kcl\n",
    "    if target is not None:\n",
    "        basic_cmd += target_class.format(btc=target)\n",
    "    cmd = basic_cmd.format(dataset=d, label=l, emb=e)\n",
    "    return cmd"
   ]
  },
  {
   "cell_type": "markdown",
   "metadata": {},
   "source": [
    "Since the binary model is a special case which requires specifying the target class of the specific dataset and label we do this separately.\n",
    "\n",
    "First here is the multiclass case:"
   ]
  },
  {
   "cell_type": "code",
   "execution_count": 34,
   "metadata": {
    "scrolled": true
   },
   "outputs": [
    {
     "name": "stdout",
     "output_type": "stream",
     "text": [
      "python src/Main.py restaurants entity -embedding glove -cuda -use-kcl\n",
      "python src/Main.py restaurants entity -embedding bert-base-uncased -cuda -use-kcl\n",
      "python src/Main.py restaurants entity -embedding glove -cuda\n",
      "python src/Main.py restaurants entity -embedding bert-base-uncased -cuda\n",
      "python src/Main.py restaurants attribute -embedding glove -cuda -use-kcl\n",
      "python src/Main.py restaurants attribute -embedding bert-base-uncased -cuda -use-kcl\n",
      "python src/Main.py restaurants attribute -embedding glove -cuda\n",
      "python src/Main.py restaurants attribute -embedding bert-base-uncased -cuda\n",
      "python src/Main.py laptop entity -embedding glove -cuda -use-kcl\n",
      "python src/Main.py laptop entity -embedding bert-base-uncased -cuda -use-kcl\n",
      "python src/Main.py laptop entity -embedding glove -cuda\n",
      "python src/Main.py laptop entity -embedding bert-base-uncased -cuda\n",
      "python src/Main.py laptop attribute -embedding glove -cuda -use-kcl\n",
      "python src/Main.py laptop attribute -embedding bert-base-uncased -cuda -use-kcl\n",
      "python src/Main.py laptop attribute -embedding glove -cuda\n",
      "python src/Main.py laptop attribute -embedding bert-base-uncased -cuda\n"
     ]
    }
   ],
   "source": [
    "binary = [False]\n",
    "for d,l,b,k,e in itertools.product(datasets, label, binary, kcl_loss, embeddings):\n",
    "    cmd = generate_command(d,l,b,k,e,target=None)\n",
    "    print(cmd)"
   ]
  },
  {
   "cell_type": "markdown",
   "metadata": {},
   "source": [
    "For the binary case:"
   ]
  },
  {
   "cell_type": "code",
   "execution_count": 28,
   "metadata": {},
   "outputs": [],
   "source": [
    "def get_targets(dataset, labels):\n",
    "    if dataset == 'laptop' and labels == 'attribute':\n",
    "        targets = LAPTOP_ATTRIBUTES.keys()\n",
    "    if dataset == 'laptop' and labels == 'entity':\n",
    "        targets = LAPTOP_ENTITIES.keys()\n",
    "    elif dataset == 'restaurants' and labels == 'attribute':\n",
    "        targets = RESTAURANT_ATTRIBUTES.keys()\n",
    "    elif dataset == 'restaurants' and labels == 'entity':\n",
    "        targets = RESTAURANT_ENTITIES.keys()\n",
    "    return targets"
   ]
  },
  {
   "cell_type": "code",
   "execution_count": 37,
   "metadata": {},
   "outputs": [
    {
     "name": "stdout",
     "output_type": "stream",
     "text": [
      "python src/Main.py restaurants entity -embedding glove -cuda -b -use-kcl --binary-target-class AMBIENCE\n",
      "python src/Main.py restaurants entity -embedding glove -cuda -b -use-kcl --binary-target-class DRINKS\n",
      "python src/Main.py restaurants entity -embedding glove -cuda -b -use-kcl --binary-target-class FOOD\n",
      "python src/Main.py restaurants entity -embedding glove -cuda -b -use-kcl --binary-target-class LOCATION\n",
      "python src/Main.py restaurants entity -embedding glove -cuda -b -use-kcl --binary-target-class RESTAURANT\n",
      "python src/Main.py restaurants entity -embedding glove -cuda -b -use-kcl --binary-target-class SERVICE\n",
      "python src/Main.py restaurants entity -embedding glove -cuda -b -use-kcl --binary-target-class NaN\n",
      "python src/Main.py restaurants entity -embedding bert-base-uncased -cuda -b -use-kcl --binary-target-class AMBIENCE\n",
      "python src/Main.py restaurants entity -embedding bert-base-uncased -cuda -b -use-kcl --binary-target-class DRINKS\n",
      "python src/Main.py restaurants entity -embedding bert-base-uncased -cuda -b -use-kcl --binary-target-class FOOD\n",
      "python src/Main.py restaurants entity -embedding bert-base-uncased -cuda -b -use-kcl --binary-target-class LOCATION\n",
      "python src/Main.py restaurants entity -embedding bert-base-uncased -cuda -b -use-kcl --binary-target-class RESTAURANT\n",
      "python src/Main.py restaurants entity -embedding bert-base-uncased -cuda -b -use-kcl --binary-target-class SERVICE\n",
      "python src/Main.py restaurants entity -embedding bert-base-uncased -cuda -b -use-kcl --binary-target-class NaN\n",
      "python src/Main.py restaurants entity -embedding glove -cuda -b --binary-target-class AMBIENCE\n",
      "python src/Main.py restaurants entity -embedding glove -cuda -b --binary-target-class DRINKS\n",
      "python src/Main.py restaurants entity -embedding glove -cuda -b --binary-target-class FOOD\n",
      "python src/Main.py restaurants entity -embedding glove -cuda -b --binary-target-class LOCATION\n",
      "python src/Main.py restaurants entity -embedding glove -cuda -b --binary-target-class RESTAURANT\n",
      "python src/Main.py restaurants entity -embedding glove -cuda -b --binary-target-class SERVICE\n",
      "python src/Main.py restaurants entity -embedding glove -cuda -b --binary-target-class NaN\n",
      "python src/Main.py restaurants entity -embedding bert-base-uncased -cuda -b --binary-target-class AMBIENCE\n",
      "python src/Main.py restaurants entity -embedding bert-base-uncased -cuda -b --binary-target-class DRINKS\n",
      "python src/Main.py restaurants entity -embedding bert-base-uncased -cuda -b --binary-target-class FOOD\n",
      "python src/Main.py restaurants entity -embedding bert-base-uncased -cuda -b --binary-target-class LOCATION\n",
      "python src/Main.py restaurants entity -embedding bert-base-uncased -cuda -b --binary-target-class RESTAURANT\n",
      "python src/Main.py restaurants entity -embedding bert-base-uncased -cuda -b --binary-target-class SERVICE\n",
      "python src/Main.py restaurants entity -embedding bert-base-uncased -cuda -b --binary-target-class NaN\n",
      "python src/Main.py restaurants attribute -embedding glove -cuda -b -use-kcl --binary-target-class GENERAL\n",
      "python src/Main.py restaurants attribute -embedding glove -cuda -b -use-kcl --binary-target-class MISCELLANEOUS\n",
      "python src/Main.py restaurants attribute -embedding glove -cuda -b -use-kcl --binary-target-class PRICES\n",
      "python src/Main.py restaurants attribute -embedding glove -cuda -b -use-kcl --binary-target-class QUALITY\n",
      "python src/Main.py restaurants attribute -embedding glove -cuda -b -use-kcl --binary-target-class STYLE_OPTIONS\n",
      "python src/Main.py restaurants attribute -embedding glove -cuda -b -use-kcl --binary-target-class NaN\n",
      "python src/Main.py restaurants attribute -embedding bert-base-uncased -cuda -b -use-kcl --binary-target-class GENERAL\n",
      "python src/Main.py restaurants attribute -embedding bert-base-uncased -cuda -b -use-kcl --binary-target-class MISCELLANEOUS\n",
      "python src/Main.py restaurants attribute -embedding bert-base-uncased -cuda -b -use-kcl --binary-target-class PRICES\n",
      "python src/Main.py restaurants attribute -embedding bert-base-uncased -cuda -b -use-kcl --binary-target-class QUALITY\n",
      "python src/Main.py restaurants attribute -embedding bert-base-uncased -cuda -b -use-kcl --binary-target-class STYLE_OPTIONS\n",
      "python src/Main.py restaurants attribute -embedding bert-base-uncased -cuda -b -use-kcl --binary-target-class NaN\n",
      "python src/Main.py restaurants attribute -embedding glove -cuda -b --binary-target-class GENERAL\n",
      "python src/Main.py restaurants attribute -embedding glove -cuda -b --binary-target-class MISCELLANEOUS\n",
      "python src/Main.py restaurants attribute -embedding glove -cuda -b --binary-target-class PRICES\n",
      "python src/Main.py restaurants attribute -embedding glove -cuda -b --binary-target-class QUALITY\n",
      "python src/Main.py restaurants attribute -embedding glove -cuda -b --binary-target-class STYLE_OPTIONS\n",
      "python src/Main.py restaurants attribute -embedding glove -cuda -b --binary-target-class NaN\n",
      "python src/Main.py restaurants attribute -embedding bert-base-uncased -cuda -b --binary-target-class GENERAL\n",
      "python src/Main.py restaurants attribute -embedding bert-base-uncased -cuda -b --binary-target-class MISCELLANEOUS\n",
      "python src/Main.py restaurants attribute -embedding bert-base-uncased -cuda -b --binary-target-class PRICES\n",
      "python src/Main.py restaurants attribute -embedding bert-base-uncased -cuda -b --binary-target-class QUALITY\n",
      "python src/Main.py restaurants attribute -embedding bert-base-uncased -cuda -b --binary-target-class STYLE_OPTIONS\n",
      "python src/Main.py restaurants attribute -embedding bert-base-uncased -cuda -b --binary-target-class NaN\n",
      "python src/Main.py laptop entity -embedding glove -cuda -b -use-kcl --binary-target-class BATTERY\n",
      "python src/Main.py laptop entity -embedding glove -cuda -b -use-kcl --binary-target-class COMPANY\n",
      "python src/Main.py laptop entity -embedding glove -cuda -b -use-kcl --binary-target-class CPU\n",
      "python src/Main.py laptop entity -embedding glove -cuda -b -use-kcl --binary-target-class DISPLAY\n",
      "python src/Main.py laptop entity -embedding glove -cuda -b -use-kcl --binary-target-class FANS_COOLING\n",
      "python src/Main.py laptop entity -embedding glove -cuda -b -use-kcl --binary-target-class GRAPHICS\n",
      "python src/Main.py laptop entity -embedding glove -cuda -b -use-kcl --binary-target-class HARDWARE\n",
      "python src/Main.py laptop entity -embedding glove -cuda -b -use-kcl --binary-target-class HARD_DISC\n",
      "python src/Main.py laptop entity -embedding glove -cuda -b -use-kcl --binary-target-class KEYBOARD\n",
      "python src/Main.py laptop entity -embedding glove -cuda -b -use-kcl --binary-target-class LAPTOP\n",
      "python src/Main.py laptop entity -embedding glove -cuda -b -use-kcl --binary-target-class MEMORY\n",
      "python src/Main.py laptop entity -embedding glove -cuda -b -use-kcl --binary-target-class MOTHERBOARD\n",
      "python src/Main.py laptop entity -embedding glove -cuda -b -use-kcl --binary-target-class MOUSE\n",
      "python src/Main.py laptop entity -embedding glove -cuda -b -use-kcl --binary-target-class MULTIMEDIA_DEVICES\n",
      "python src/Main.py laptop entity -embedding glove -cuda -b -use-kcl --binary-target-class OPTICAL_DRIVES\n",
      "python src/Main.py laptop entity -embedding glove -cuda -b -use-kcl --binary-target-class OS\n",
      "python src/Main.py laptop entity -embedding glove -cuda -b -use-kcl --binary-target-class PORTS\n",
      "python src/Main.py laptop entity -embedding glove -cuda -b -use-kcl --binary-target-class POWER_SUPPLY\n",
      "python src/Main.py laptop entity -embedding glove -cuda -b -use-kcl --binary-target-class SHIPPING\n",
      "python src/Main.py laptop entity -embedding glove -cuda -b -use-kcl --binary-target-class SOFTWARE\n",
      "python src/Main.py laptop entity -embedding glove -cuda -b -use-kcl --binary-target-class SUPPORT\n",
      "python src/Main.py laptop entity -embedding glove -cuda -b -use-kcl --binary-target-class WARRANTY\n",
      "python src/Main.py laptop entity -embedding glove -cuda -b -use-kcl --binary-target-class NaN\n",
      "python src/Main.py laptop entity -embedding bert-base-uncased -cuda -b -use-kcl --binary-target-class BATTERY\n",
      "python src/Main.py laptop entity -embedding bert-base-uncased -cuda -b -use-kcl --binary-target-class COMPANY\n",
      "python src/Main.py laptop entity -embedding bert-base-uncased -cuda -b -use-kcl --binary-target-class CPU\n",
      "python src/Main.py laptop entity -embedding bert-base-uncased -cuda -b -use-kcl --binary-target-class DISPLAY\n",
      "python src/Main.py laptop entity -embedding bert-base-uncased -cuda -b -use-kcl --binary-target-class FANS_COOLING\n",
      "python src/Main.py laptop entity -embedding bert-base-uncased -cuda -b -use-kcl --binary-target-class GRAPHICS\n",
      "python src/Main.py laptop entity -embedding bert-base-uncased -cuda -b -use-kcl --binary-target-class HARDWARE\n",
      "python src/Main.py laptop entity -embedding bert-base-uncased -cuda -b -use-kcl --binary-target-class HARD_DISC\n",
      "python src/Main.py laptop entity -embedding bert-base-uncased -cuda -b -use-kcl --binary-target-class KEYBOARD\n",
      "python src/Main.py laptop entity -embedding bert-base-uncased -cuda -b -use-kcl --binary-target-class LAPTOP\n",
      "python src/Main.py laptop entity -embedding bert-base-uncased -cuda -b -use-kcl --binary-target-class MEMORY\n",
      "python src/Main.py laptop entity -embedding bert-base-uncased -cuda -b -use-kcl --binary-target-class MOTHERBOARD\n",
      "python src/Main.py laptop entity -embedding bert-base-uncased -cuda -b -use-kcl --binary-target-class MOUSE\n",
      "python src/Main.py laptop entity -embedding bert-base-uncased -cuda -b -use-kcl --binary-target-class MULTIMEDIA_DEVICES\n",
      "python src/Main.py laptop entity -embedding bert-base-uncased -cuda -b -use-kcl --binary-target-class OPTICAL_DRIVES\n",
      "python src/Main.py laptop entity -embedding bert-base-uncased -cuda -b -use-kcl --binary-target-class OS\n",
      "python src/Main.py laptop entity -embedding bert-base-uncased -cuda -b -use-kcl --binary-target-class PORTS\n",
      "python src/Main.py laptop entity -embedding bert-base-uncased -cuda -b -use-kcl --binary-target-class POWER_SUPPLY\n",
      "python src/Main.py laptop entity -embedding bert-base-uncased -cuda -b -use-kcl --binary-target-class SHIPPING\n",
      "python src/Main.py laptop entity -embedding bert-base-uncased -cuda -b -use-kcl --binary-target-class SOFTWARE\n",
      "python src/Main.py laptop entity -embedding bert-base-uncased -cuda -b -use-kcl --binary-target-class SUPPORT\n",
      "python src/Main.py laptop entity -embedding bert-base-uncased -cuda -b -use-kcl --binary-target-class WARRANTY\n",
      "python src/Main.py laptop entity -embedding bert-base-uncased -cuda -b -use-kcl --binary-target-class NaN\n",
      "python src/Main.py laptop entity -embedding glove -cuda -b --binary-target-class BATTERY\n",
      "python src/Main.py laptop entity -embedding glove -cuda -b --binary-target-class COMPANY\n",
      "python src/Main.py laptop entity -embedding glove -cuda -b --binary-target-class CPU\n",
      "python src/Main.py laptop entity -embedding glove -cuda -b --binary-target-class DISPLAY\n",
      "python src/Main.py laptop entity -embedding glove -cuda -b --binary-target-class FANS_COOLING\n",
      "python src/Main.py laptop entity -embedding glove -cuda -b --binary-target-class GRAPHICS\n",
      "python src/Main.py laptop entity -embedding glove -cuda -b --binary-target-class HARDWARE\n",
      "python src/Main.py laptop entity -embedding glove -cuda -b --binary-target-class HARD_DISC\n",
      "python src/Main.py laptop entity -embedding glove -cuda -b --binary-target-class KEYBOARD\n",
      "python src/Main.py laptop entity -embedding glove -cuda -b --binary-target-class LAPTOP\n",
      "python src/Main.py laptop entity -embedding glove -cuda -b --binary-target-class MEMORY\n",
      "python src/Main.py laptop entity -embedding glove -cuda -b --binary-target-class MOTHERBOARD\n",
      "python src/Main.py laptop entity -embedding glove -cuda -b --binary-target-class MOUSE\n",
      "python src/Main.py laptop entity -embedding glove -cuda -b --binary-target-class MULTIMEDIA_DEVICES\n",
      "python src/Main.py laptop entity -embedding glove -cuda -b --binary-target-class OPTICAL_DRIVES\n",
      "python src/Main.py laptop entity -embedding glove -cuda -b --binary-target-class OS\n",
      "python src/Main.py laptop entity -embedding glove -cuda -b --binary-target-class PORTS\n",
      "python src/Main.py laptop entity -embedding glove -cuda -b --binary-target-class POWER_SUPPLY\n",
      "python src/Main.py laptop entity -embedding glove -cuda -b --binary-target-class SHIPPING\n",
      "python src/Main.py laptop entity -embedding glove -cuda -b --binary-target-class SOFTWARE\n",
      "python src/Main.py laptop entity -embedding glove -cuda -b --binary-target-class SUPPORT\n",
      "python src/Main.py laptop entity -embedding glove -cuda -b --binary-target-class WARRANTY\n",
      "python src/Main.py laptop entity -embedding glove -cuda -b --binary-target-class NaN\n",
      "python src/Main.py laptop entity -embedding bert-base-uncased -cuda -b --binary-target-class BATTERY\n",
      "python src/Main.py laptop entity -embedding bert-base-uncased -cuda -b --binary-target-class COMPANY\n",
      "python src/Main.py laptop entity -embedding bert-base-uncased -cuda -b --binary-target-class CPU\n",
      "python src/Main.py laptop entity -embedding bert-base-uncased -cuda -b --binary-target-class DISPLAY\n",
      "python src/Main.py laptop entity -embedding bert-base-uncased -cuda -b --binary-target-class FANS_COOLING\n",
      "python src/Main.py laptop entity -embedding bert-base-uncased -cuda -b --binary-target-class GRAPHICS\n",
      "python src/Main.py laptop entity -embedding bert-base-uncased -cuda -b --binary-target-class HARDWARE\n",
      "python src/Main.py laptop entity -embedding bert-base-uncased -cuda -b --binary-target-class HARD_DISC\n",
      "python src/Main.py laptop entity -embedding bert-base-uncased -cuda -b --binary-target-class KEYBOARD\n",
      "python src/Main.py laptop entity -embedding bert-base-uncased -cuda -b --binary-target-class LAPTOP\n",
      "python src/Main.py laptop entity -embedding bert-base-uncased -cuda -b --binary-target-class MEMORY\n",
      "python src/Main.py laptop entity -embedding bert-base-uncased -cuda -b --binary-target-class MOTHERBOARD\n",
      "python src/Main.py laptop entity -embedding bert-base-uncased -cuda -b --binary-target-class MOUSE\n",
      "python src/Main.py laptop entity -embedding bert-base-uncased -cuda -b --binary-target-class MULTIMEDIA_DEVICES\n",
      "python src/Main.py laptop entity -embedding bert-base-uncased -cuda -b --binary-target-class OPTICAL_DRIVES\n",
      "python src/Main.py laptop entity -embedding bert-base-uncased -cuda -b --binary-target-class OS\n",
      "python src/Main.py laptop entity -embedding bert-base-uncased -cuda -b --binary-target-class PORTS\n",
      "python src/Main.py laptop entity -embedding bert-base-uncased -cuda -b --binary-target-class POWER_SUPPLY\n",
      "python src/Main.py laptop entity -embedding bert-base-uncased -cuda -b --binary-target-class SHIPPING\n",
      "python src/Main.py laptop entity -embedding bert-base-uncased -cuda -b --binary-target-class SOFTWARE\n",
      "python src/Main.py laptop entity -embedding bert-base-uncased -cuda -b --binary-target-class SUPPORT\n",
      "python src/Main.py laptop entity -embedding bert-base-uncased -cuda -b --binary-target-class WARRANTY\n",
      "python src/Main.py laptop entity -embedding bert-base-uncased -cuda -b --binary-target-class NaN\n",
      "python src/Main.py laptop attribute -embedding glove -cuda -b -use-kcl --binary-target-class CONNECTIVITY\n",
      "python src/Main.py laptop attribute -embedding glove -cuda -b -use-kcl --binary-target-class DESIGN_FEATURES\n",
      "python src/Main.py laptop attribute -embedding glove -cuda -b -use-kcl --binary-target-class GENERAL\n",
      "python src/Main.py laptop attribute -embedding glove -cuda -b -use-kcl --binary-target-class MISCELLANEOUS\n",
      "python src/Main.py laptop attribute -embedding glove -cuda -b -use-kcl --binary-target-class OPERATION_PERFORMANCE\n",
      "python src/Main.py laptop attribute -embedding glove -cuda -b -use-kcl --binary-target-class PORTABILITY\n",
      "python src/Main.py laptop attribute -embedding glove -cuda -b -use-kcl --binary-target-class PRICE\n",
      "python src/Main.py laptop attribute -embedding glove -cuda -b -use-kcl --binary-target-class QUALITY\n",
      "python src/Main.py laptop attribute -embedding glove -cuda -b -use-kcl --binary-target-class USABILITY\n",
      "python src/Main.py laptop attribute -embedding glove -cuda -b -use-kcl --binary-target-class NaN\n",
      "python src/Main.py laptop attribute -embedding bert-base-uncased -cuda -b -use-kcl --binary-target-class CONNECTIVITY\n",
      "python src/Main.py laptop attribute -embedding bert-base-uncased -cuda -b -use-kcl --binary-target-class DESIGN_FEATURES\n",
      "python src/Main.py laptop attribute -embedding bert-base-uncased -cuda -b -use-kcl --binary-target-class GENERAL\n",
      "python src/Main.py laptop attribute -embedding bert-base-uncased -cuda -b -use-kcl --binary-target-class MISCELLANEOUS\n",
      "python src/Main.py laptop attribute -embedding bert-base-uncased -cuda -b -use-kcl --binary-target-class OPERATION_PERFORMANCE\n",
      "python src/Main.py laptop attribute -embedding bert-base-uncased -cuda -b -use-kcl --binary-target-class PORTABILITY\n",
      "python src/Main.py laptop attribute -embedding bert-base-uncased -cuda -b -use-kcl --binary-target-class PRICE\n",
      "python src/Main.py laptop attribute -embedding bert-base-uncased -cuda -b -use-kcl --binary-target-class QUALITY\n",
      "python src/Main.py laptop attribute -embedding bert-base-uncased -cuda -b -use-kcl --binary-target-class USABILITY\n",
      "python src/Main.py laptop attribute -embedding bert-base-uncased -cuda -b -use-kcl --binary-target-class NaN\n",
      "python src/Main.py laptop attribute -embedding glove -cuda -b --binary-target-class CONNECTIVITY\n",
      "python src/Main.py laptop attribute -embedding glove -cuda -b --binary-target-class DESIGN_FEATURES\n",
      "python src/Main.py laptop attribute -embedding glove -cuda -b --binary-target-class GENERAL\n",
      "python src/Main.py laptop attribute -embedding glove -cuda -b --binary-target-class MISCELLANEOUS\n",
      "python src/Main.py laptop attribute -embedding glove -cuda -b --binary-target-class OPERATION_PERFORMANCE\n",
      "python src/Main.py laptop attribute -embedding glove -cuda -b --binary-target-class PORTABILITY\n",
      "python src/Main.py laptop attribute -embedding glove -cuda -b --binary-target-class PRICE\n",
      "python src/Main.py laptop attribute -embedding glove -cuda -b --binary-target-class QUALITY\n",
      "python src/Main.py laptop attribute -embedding glove -cuda -b --binary-target-class USABILITY\n",
      "python src/Main.py laptop attribute -embedding glove -cuda -b --binary-target-class NaN\n",
      "python src/Main.py laptop attribute -embedding bert-base-uncased -cuda -b --binary-target-class CONNECTIVITY\n",
      "python src/Main.py laptop attribute -embedding bert-base-uncased -cuda -b --binary-target-class DESIGN_FEATURES\n",
      "python src/Main.py laptop attribute -embedding bert-base-uncased -cuda -b --binary-target-class GENERAL\n",
      "python src/Main.py laptop attribute -embedding bert-base-uncased -cuda -b --binary-target-class MISCELLANEOUS\n",
      "python src/Main.py laptop attribute -embedding bert-base-uncased -cuda -b --binary-target-class OPERATION_PERFORMANCE\n",
      "python src/Main.py laptop attribute -embedding bert-base-uncased -cuda -b --binary-target-class PORTABILITY\n",
      "python src/Main.py laptop attribute -embedding bert-base-uncased -cuda -b --binary-target-class PRICE\n",
      "python src/Main.py laptop attribute -embedding bert-base-uncased -cuda -b --binary-target-class QUALITY\n",
      "python src/Main.py laptop attribute -embedding bert-base-uncased -cuda -b --binary-target-class USABILITY\n",
      "python src/Main.py laptop attribute -embedding bert-base-uncased -cuda -b --binary-target-class NaN\n"
     ]
    }
   ],
   "source": [
    "binary = [True]\n",
    "for d,l,b,k,e in itertools.product(datasets, label, binary, kcl_loss, embeddings):\n",
    "    #selecting the appropriate target labels\n",
    "    targets = get_targets(d,l)\n",
    "    for target in targets:  \n",
    "        cmd = generate_command(d,l,b,k,e,target=target)\n",
    "        print(cmd)"
   ]
  },
  {
   "cell_type": "code",
   "execution_count": null,
   "metadata": {},
   "outputs": [],
   "source": []
  }
 ],
 "metadata": {
  "kernelspec": {
   "display_name": "Python [conda env:opinion]",
   "language": "python",
   "name": "conda-env-opinion-py"
  },
  "language_info": {
   "codemirror_mode": {
    "name": "ipython",
    "version": 3
   },
   "file_extension": ".py",
   "mimetype": "text/x-python",
   "name": "python",
   "nbconvert_exporter": "python",
   "pygments_lexer": "ipython3",
   "version": "3.7.7"
  }
 },
 "nbformat": 4,
 "nbformat_minor": 2
}
