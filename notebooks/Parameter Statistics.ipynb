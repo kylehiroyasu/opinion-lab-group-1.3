{
 "cells": [
  {
   "cell_type": "code",
   "execution_count": 1,
   "metadata": {},
   "outputs": [],
   "source": [
    "import os\n",
    "from pathlib import Path\n",
    "import sys\n",
    "colab = False\n",
    "import warnings\n",
    "warnings.filterwarnings('ignore')"
   ]
  },
  {
   "cell_type": "code",
   "execution_count": 2,
   "metadata": {},
   "outputs": [
    {
     "name": "stdout",
     "output_type": "stream",
     "text": [
      "C:\\Users\\ibes222\\Documents\\Master\\SS20\\NLPLab\\GitHub\\notebooks\\..\n"
     ]
    }
   ],
   "source": [
    "ROOT = Path(os.getcwd())/'..'\n",
    "DATA = ROOT/'data'\n",
    "SRC =  ROOT/'src'\n",
    "RAW_DATA = DATA/'raw'\n",
    "RECORDS = ROOT/'records'\n",
    "RESTAURANT_ATTRIBUTES = RECORDS/'restaurants'/'attribute'\n",
    "RESTAURANT_ENTITIES = RECORDS/'restaurants'/'entity'\n",
    "ATTR_FILES = os.listdir(RESTAURANT_ATTRIBUTES)\n",
    "ENT_FILES = os.listdir(RESTAURANT_ENTITIES)\n",
    "print(ROOT)"
   ]
  },
  {
   "cell_type": "code",
   "execution_count": 3,
   "metadata": {},
   "outputs": [],
   "source": [
    "sys.path.append(str(SRC))"
   ]
  },
  {
   "cell_type": "markdown",
   "metadata": {},
   "source": [
    "## Imports"
   ]
  },
  {
   "cell_type": "code",
   "execution_count": 4,
   "metadata": {},
   "outputs": [],
   "source": [
    "import itertools\n",
    "import matplotlib.pyplot as plt\n",
    "import pandas as pd\n",
    "import statistic"
   ]
  },
  {
   "cell_type": "code",
   "execution_count": 5,
   "metadata": {},
   "outputs": [],
   "source": [
    "if '.gitignore' in ATTR_FILES:\n",
    "    ATTR_FILES.remove('.gitignore')\n",
    "if '.gitignore' in ENT_FILES:\n",
    "    ENT_FILES.remove('.gitignore')"
   ]
  },
  {
   "cell_type": "code",
   "execution_count": 6,
   "metadata": {},
   "outputs": [],
   "source": [
    "attr_logs = statistic.load_logs_as_df(RESTAURANT_ATTRIBUTES, ATTR_FILES)\n",
    "ent_logs = statistic.load_logs_as_df(RESTAURANT_ENTITIES, ENT_FILES)"
   ]
  },
  {
   "cell_type": "code",
   "execution_count": 7,
   "metadata": {},
   "outputs": [
    {
     "data": {
      "text/html": [
       "<div>\n",
       "<style scoped>\n",
       "    .dataframe tbody tr th:only-of-type {\n",
       "        vertical-align: middle;\n",
       "    }\n",
       "\n",
       "    .dataframe tbody tr th {\n",
       "        vertical-align: top;\n",
       "    }\n",
       "\n",
       "    .dataframe thead th {\n",
       "        text-align: right;\n",
       "    }\n",
       "</style>\n",
       "<table border=\"1\" class=\"dataframe\">\n",
       "  <thead>\n",
       "    <tr style=\"text-align: right;\">\n",
       "      <th></th>\n",
       "      <th>filename</th>\n",
       "      <th>abae_losses</th>\n",
       "      <th>classifier_losses</th>\n",
       "      <th>classifier_train_performance</th>\n",
       "      <th>classifier_eval_performance</th>\n",
       "      <th>dataset</th>\n",
       "      <th>label</th>\n",
       "      <th>embedding</th>\n",
       "      <th>binary</th>\n",
       "      <th>binary_target_class</th>\n",
       "      <th>...</th>\n",
       "      <th>use_micro_average</th>\n",
       "      <th>train_entities</th>\n",
       "      <th>target_class</th>\n",
       "      <th>freeze</th>\n",
       "      <th>save_training_records</th>\n",
       "      <th>use_linmodel</th>\n",
       "      <th>switch_to_relu</th>\n",
       "      <th>records_data_path</th>\n",
       "      <th>patience_early_stopping</th>\n",
       "      <th>save_model_path</th>\n",
       "    </tr>\n",
       "  </thead>\n",
       "  <tbody>\n",
       "    <tr>\n",
       "      <th>0</th>\n",
       "      <td>training_2020-06-01_17-57-13</td>\n",
       "      <td>[{'epoch': 0, 'model': 'binary-abae', 'loss': ...</td>\n",
       "      <td>[{'epoch': 0, 'model': 'classifier', 'loss': 2...</td>\n",
       "      <td>[{'f1': 0.5838020247469067, 'recall': 1.0, 'pr...</td>\n",
       "      <td>[{'f1': 0.5843828715365239, 'recall': 1.0, 'pr...</td>\n",
       "      <td>restaurants</td>\n",
       "      <td>attribute</td>\n",
       "      <td>glove</td>\n",
       "      <td>True</td>\n",
       "      <td>GENERAL</td>\n",
       "      <td>...</td>\n",
       "      <td>True</td>\n",
       "      <td>False</td>\n",
       "      <td>GENERAL</td>\n",
       "      <td>False</td>\n",
       "      <td>True</td>\n",
       "      <td>True</td>\n",
       "      <td>False</td>\n",
       "      <td>records/restaurants/attribute/</td>\n",
       "      <td>NaN</td>\n",
       "      <td>NaN</td>\n",
       "    </tr>\n",
       "    <tr>\n",
       "      <th>1</th>\n",
       "      <td>training_2020-06-01_18-17-26</td>\n",
       "      <td>[{'epoch': 0, 'model': 'binary-abae', 'loss': ...</td>\n",
       "      <td>[{'epoch': 0, 'model': 'classifier', 'loss': 0...</td>\n",
       "      <td>[{'f1': 0.7922437673130194, 'recall': 0.836257...</td>\n",
       "      <td>[{'f1': 0.6486486486486486, 'recall': 0.631578...</td>\n",
       "      <td>restaurants</td>\n",
       "      <td>attribute</td>\n",
       "      <td>glove</td>\n",
       "      <td>True</td>\n",
       "      <td>PRICES</td>\n",
       "      <td>...</td>\n",
       "      <td>True</td>\n",
       "      <td>False</td>\n",
       "      <td>PRICES</td>\n",
       "      <td>False</td>\n",
       "      <td>True</td>\n",
       "      <td>True</td>\n",
       "      <td>False</td>\n",
       "      <td>records/restaurants/attribute/</td>\n",
       "      <td>NaN</td>\n",
       "      <td>NaN</td>\n",
       "    </tr>\n",
       "    <tr>\n",
       "      <th>2</th>\n",
       "      <td>training_2020-06-01_18-23-05</td>\n",
       "      <td>[{'epoch': 0, 'model': 'binary-abae', 'loss': ...</td>\n",
       "      <td>[{'epoch': 0, 'model': 'classifier', 'loss': 1...</td>\n",
       "      <td>[{'f1': 0.35714285714285715, 'recall': 0.37841...</td>\n",
       "      <td>[{'f1': 0.5534591194968553, 'recall': 0.488888...</td>\n",
       "      <td>restaurants</td>\n",
       "      <td>attribute</td>\n",
       "      <td>glove</td>\n",
       "      <td>True</td>\n",
       "      <td>QUALITY</td>\n",
       "      <td>...</td>\n",
       "      <td>True</td>\n",
       "      <td>False</td>\n",
       "      <td>QUALITY</td>\n",
       "      <td>False</td>\n",
       "      <td>True</td>\n",
       "      <td>True</td>\n",
       "      <td>False</td>\n",
       "      <td>records/restaurants/attribute/</td>\n",
       "      <td>NaN</td>\n",
       "      <td>NaN</td>\n",
       "    </tr>\n",
       "    <tr>\n",
       "      <th>3</th>\n",
       "      <td>training_2020-06-01_18-46-27</td>\n",
       "      <td>[{'epoch': 0, 'model': 'binary-abae', 'loss': ...</td>\n",
       "      <td>[{'epoch': 0, 'model': 'classifier', 'loss': 2...</td>\n",
       "      <td>[{'f1': 0.09878048780487805, 'recall': 0.07803...</td>\n",
       "      <td>[{'f1': 0.0, 'recall': 0.0, 'precision': 0.0, ...</td>\n",
       "      <td>restaurants</td>\n",
       "      <td>attribute</td>\n",
       "      <td>glove</td>\n",
       "      <td>True</td>\n",
       "      <td>GENERAL</td>\n",
       "      <td>...</td>\n",
       "      <td>True</td>\n",
       "      <td>False</td>\n",
       "      <td>GENERAL</td>\n",
       "      <td>False</td>\n",
       "      <td>True</td>\n",
       "      <td>True</td>\n",
       "      <td>False</td>\n",
       "      <td>records/restaurants/attribute/</td>\n",
       "      <td>NaN</td>\n",
       "      <td>NaN</td>\n",
       "    </tr>\n",
       "    <tr>\n",
       "      <th>4</th>\n",
       "      <td>training_2020-06-01_19-01-41</td>\n",
       "      <td>[{'epoch': 0, 'model': 'binary-abae', 'loss': ...</td>\n",
       "      <td>[{'epoch': 0, 'model': 'classifier', 'loss': 0...</td>\n",
       "      <td>[{'f1': 0.4602510460251045, 'recall': 0.625, '...</td>\n",
       "      <td>[{'f1': 0.0, 'recall': 0.0, 'precision': 0.0, ...</td>\n",
       "      <td>restaurants</td>\n",
       "      <td>attribute</td>\n",
       "      <td>glove</td>\n",
       "      <td>True</td>\n",
       "      <td>MISCELLANEOUS</td>\n",
       "      <td>...</td>\n",
       "      <td>True</td>\n",
       "      <td>False</td>\n",
       "      <td>MISCELLANEOUS</td>\n",
       "      <td>False</td>\n",
       "      <td>True</td>\n",
       "      <td>True</td>\n",
       "      <td>False</td>\n",
       "      <td>records/restaurants/attribute/</td>\n",
       "      <td>NaN</td>\n",
       "      <td>NaN</td>\n",
       "    </tr>\n",
       "  </tbody>\n",
       "</table>\n",
       "<p>5 rows × 33 columns</p>\n",
       "</div>"
      ],
      "text/plain": [
       "                       filename  \\\n",
       "0  training_2020-06-01_17-57-13   \n",
       "1  training_2020-06-01_18-17-26   \n",
       "2  training_2020-06-01_18-23-05   \n",
       "3  training_2020-06-01_18-46-27   \n",
       "4  training_2020-06-01_19-01-41   \n",
       "\n",
       "                                         abae_losses  \\\n",
       "0  [{'epoch': 0, 'model': 'binary-abae', 'loss': ...   \n",
       "1  [{'epoch': 0, 'model': 'binary-abae', 'loss': ...   \n",
       "2  [{'epoch': 0, 'model': 'binary-abae', 'loss': ...   \n",
       "3  [{'epoch': 0, 'model': 'binary-abae', 'loss': ...   \n",
       "4  [{'epoch': 0, 'model': 'binary-abae', 'loss': ...   \n",
       "\n",
       "                                   classifier_losses  \\\n",
       "0  [{'epoch': 0, 'model': 'classifier', 'loss': 2...   \n",
       "1  [{'epoch': 0, 'model': 'classifier', 'loss': 0...   \n",
       "2  [{'epoch': 0, 'model': 'classifier', 'loss': 1...   \n",
       "3  [{'epoch': 0, 'model': 'classifier', 'loss': 2...   \n",
       "4  [{'epoch': 0, 'model': 'classifier', 'loss': 0...   \n",
       "\n",
       "                        classifier_train_performance  \\\n",
       "0  [{'f1': 0.5838020247469067, 'recall': 1.0, 'pr...   \n",
       "1  [{'f1': 0.7922437673130194, 'recall': 0.836257...   \n",
       "2  [{'f1': 0.35714285714285715, 'recall': 0.37841...   \n",
       "3  [{'f1': 0.09878048780487805, 'recall': 0.07803...   \n",
       "4  [{'f1': 0.4602510460251045, 'recall': 0.625, '...   \n",
       "\n",
       "                         classifier_eval_performance      dataset      label  \\\n",
       "0  [{'f1': 0.5843828715365239, 'recall': 1.0, 'pr...  restaurants  attribute   \n",
       "1  [{'f1': 0.6486486486486486, 'recall': 0.631578...  restaurants  attribute   \n",
       "2  [{'f1': 0.5534591194968553, 'recall': 0.488888...  restaurants  attribute   \n",
       "3  [{'f1': 0.0, 'recall': 0.0, 'precision': 0.0, ...  restaurants  attribute   \n",
       "4  [{'f1': 0.0, 'recall': 0.0, 'precision': 0.0, ...  restaurants  attribute   \n",
       "\n",
       "  embedding binary binary_target_class  ...  use_micro_average  \\\n",
       "0     glove   True             GENERAL  ...               True   \n",
       "1     glove   True              PRICES  ...               True   \n",
       "2     glove   True             QUALITY  ...               True   \n",
       "3     glove   True             GENERAL  ...               True   \n",
       "4     glove   True       MISCELLANEOUS  ...               True   \n",
       "\n",
       "   train_entities   target_class  freeze  save_training_records  use_linmodel  \\\n",
       "0           False        GENERAL   False                   True          True   \n",
       "1           False         PRICES   False                   True          True   \n",
       "2           False        QUALITY   False                   True          True   \n",
       "3           False        GENERAL   False                   True          True   \n",
       "4           False  MISCELLANEOUS   False                   True          True   \n",
       "\n",
       "   switch_to_relu               records_data_path  patience_early_stopping  \\\n",
       "0           False  records/restaurants/attribute/                      NaN   \n",
       "1           False  records/restaurants/attribute/                      NaN   \n",
       "2           False  records/restaurants/attribute/                      NaN   \n",
       "3           False  records/restaurants/attribute/                      NaN   \n",
       "4           False  records/restaurants/attribute/                      NaN   \n",
       "\n",
       "   save_model_path  \n",
       "0              NaN  \n",
       "1              NaN  \n",
       "2              NaN  \n",
       "3              NaN  \n",
       "4              NaN  \n",
       "\n",
       "[5 rows x 33 columns]"
      ]
     },
     "execution_count": 7,
     "metadata": {},
     "output_type": "execute_result"
    }
   ],
   "source": [
    "logs = pd.concat([attr_logs, ent_logs])\n",
    "logs.head()"
   ]
  },
  {
   "cell_type": "code",
   "execution_count": 8,
   "metadata": {},
   "outputs": [
    {
     "data": {
      "text/plain": [
       "['GENERAL', 'PRICES', 'QUALITY', 'MISCELLANEOUS', 'NaN', 'STYLE_OPTIONS']"
      ]
     },
     "execution_count": 8,
     "metadata": {},
     "output_type": "execute_result"
    }
   ],
   "source": [
    "attributes = attr_logs[attr_logs.binary].binary_target_class.dropna().unique().tolist()\n",
    "attributes"
   ]
  },
  {
   "cell_type": "code",
   "execution_count": 9,
   "metadata": {},
   "outputs": [
    {
     "data": {
      "text/plain": [
       "['AMBIENCE', 'DRINKS', 'FOOD', 'SERVICE', 'NaN', 'RESTAURANT', 'LOCATION']"
      ]
     },
     "execution_count": 9,
     "metadata": {},
     "output_type": "execute_result"
    }
   ],
   "source": [
    "entities = logs[logs.label.eq('entity')].binary_target_class.unique().tolist()\n",
    "entities"
   ]
  },
  {
   "cell_type": "markdown",
   "metadata": {},
   "source": [
    "## Generating Plots"
   ]
  },
  {
   "cell_type": "code",
   "execution_count": 10,
   "metadata": {},
   "outputs": [],
   "source": [
    "SELECTION = {\n",
    "        'dataset':'restaurants', \n",
    "        'train_entities':False, \n",
    "        'embedding':'bert-base-cased', \n",
    "        'use_kcl': [True, False], \n",
    "        #'lr':[0.0005, 0.00005], \n",
    "        'binary':True, \n",
    "        'binary_target_class' : 'GENERAL'\n",
    "    }"
   ]
  },
  {
   "cell_type": "code",
   "execution_count": 11,
   "metadata": {},
   "outputs": [
    {
     "data": {
      "image/png": "[encoded data removed]",
      "text/plain": [
       "<Figure size 504x1440 with 6 Axes>"
      ]
     },
     "metadata": {
      "needs_background": "light"
     },
     "output_type": "display_data"
    }
   ],
   "source": [
    "fig, axs = plt.subplots(len(attributes), sharex=True, figsize=(7,20))\n",
    "for index, attribute in enumerate(attributes):\n",
    "    SELECTION['binary_target_class'] = attribute\n",
    "    rows = statistic.get_rows(logs, SELECTION)\n",
    "    statistic.calculate_statistics(rows, 'use_kcl', metric='f1', subplot=axs[index], selection=SELECTION)"
   ]
  },
  {
   "cell_type": "code",
   "execution_count": 12,
   "metadata": {},
   "outputs": [
    {
     "data": {
      "image/png": "[encoded data removed]",
      "text/plain": [
       "<Figure size 504x1440 with 7 Axes>"
      ]
     },
     "metadata": {
      "needs_background": "light"
     },
     "output_type": "display_data"
    }
   ],
   "source": [
    "SELECTION['train_entities'] = True\n",
    "fig, axs = plt.subplots(len(entities), sharex=True, figsize=(7,20))\n",
    "for index, entity in enumerate(entities):\n",
    "    SELECTION['binary_target_class'] = entity\n",
    "    rows = statistic.get_rows(logs, SELECTION)\n",
    "    statistic.calculate_statistics(rows, 'use_kcl', metric='f1', subplot=axs[index], selection=SELECTION)"
   ]
  }
 ],
 "metadata": {
  "kernelspec": {
   "display_name": "Python 3.8.2 64-bit ('opinion': venv)",
   "language": "python",
   "name": "python38264bitopinionvenve00ad8436cb3444eadbcf542ff310e8e"
  },
  "language_info": {
   "codemirror_mode": {
    "name": "ipython",
    "version": 3
   },
   "file_extension": ".py",
   "mimetype": "text/x-python",
   "name": "python",
   "nbconvert_exporter": "python",
   "pygments_lexer": "ipython3",
   "version": "3.8.2"
  }
 },
 "nbformat": 4,
 "nbformat_minor": 4
}
